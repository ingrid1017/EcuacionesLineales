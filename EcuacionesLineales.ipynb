{
  "nbformat": 4,
  "nbformat_minor": 0,
  "metadata": {
    "colab": {
      "provenance": [],
      "authorship_tag": "ABX9TyN3RpaRfRcr/BRr+Syv9g/m",
      "include_colab_link": true
    },
    "kernelspec": {
      "name": "python3",
      "display_name": "Python 3"
    },
    "language_info": {
      "name": "python"
    }
  },
  "cells": [
    {
      "cell_type": "markdown",
      "metadata": {
        "id": "view-in-github",
        "colab_type": "text"
      },
      "source": [
        "<a href=\"https://colab.research.google.com/github/ingrid1017/EcuacionesLineales/blob/main/EcuacionesLineales.ipynb\" target=\"_parent\"><img src=\"https://colab.research.google.com/assets/colab-badge.svg\" alt=\"Open In Colab\"/></a>"
      ]
    },
    {
      "cell_type": "markdown",
      "source": [
        "#Ejercicio 1: Eliminación de Gauss aplicada en la retropropagación de redes neuronales"
      ],
      "metadata": {
        "id": "IcD_JGv7j512"
      }
    },
    {
      "cell_type": "code",
      "execution_count": null,
      "metadata": {
        "colab": {
          "base_uri": "https://localhost:8080/"
        },
        "id": "7WuVxox0iwoJ",
        "outputId": "684033e4-22ea-4faa-9e60-337a742aa55a"
      },
      "outputs": [
        {
          "output_type": "stream",
          "name": "stdout",
          "text": [
            "Solución del sistema:\n",
            "x = -1.3000, y = 0.4000, z = 1.9000\n"
          ]
        }
      ],
      "source": [
        "# Planteamiento 1.\n",
        "import numpy as np\n",
        "\n",
        "# Matriz de coeficientes\n",
        "A = np.array([[2, 3, 1],\n",
        "              [4, 1, 2],\n",
        "              [3, 4, 2]], dtype=float)\n",
        "\n",
        "# Vector de términos independientes\n",
        "b = np.array([0.5, -1.0, 1.5], dtype=float)\n",
        "\n",
        "# Resolviendo el sistema de ecuaciones usando eliminación de Gauss\n",
        "sol = np.linalg.solve(A, b)\n",
        "\n",
        "# Mostrar la solución\n",
        "print(\"Solución del sistema:\")\n",
        "print(f\"x = {sol[0]:.4f}, y = {sol[1]:.4f}, z = {sol[2]:.4f}\")"
      ]
    },
    {
      "cell_type": "code",
      "source": [
        "# Planteamiento 2.\n",
        "import numpy as np\n",
        "\n",
        "# Matriz de coeficientes\n",
        "A = np.array([[3, -0.1, -0.2],\n",
        "              [0.1, 0.7, -0.3],\n",
        "              [0.3, -0.2, 10]], dtype=float)\n",
        "\n",
        "# Vector de términos independientes\n",
        "b = np.array([7.85, -19.3, 71.4], dtype=float)\n",
        "\n",
        "# Resolviendo el sistema de ecuaciones usando eliminación de Gauss\n",
        "sol = np.linalg.solve(A, b)\n",
        "\n",
        "# Mostrar la solución\n",
        "print(\"Solución del sistema:\")\n",
        "print(f\"x = {sol[0]:.4f}, y = {sol[1]:.4f}, z = {sol[2]:.4f}\")"
      ],
      "metadata": {
        "colab": {
          "base_uri": "https://localhost:8080/"
        },
        "id": "OAyQPTPskHiO",
        "outputId": "3dd0fa26-4ba1-41ea-9265-25fee5a9244e"
      },
      "execution_count": null,
      "outputs": [
        {
          "output_type": "stream",
          "name": "stdout",
          "text": [
            "Solución del sistema:\n",
            "x = 2.2191, y = -25.0719, z = 6.5720\n"
          ]
        }
      ]
    },
    {
      "cell_type": "markdown",
      "source": [
        "#2.Matriz Inversa para calcular los pesos ajustados"
      ],
      "metadata": {
        "id": "9hlkoEjlkp76"
      }
    },
    {
      "cell_type": "code",
      "source": [
        "# Matriz de coeficientes\n",
        "A = np.array([[3, -0.1, -0.2],\n",
        "              [0.1, 0.7, -0.3],\n",
        "              [0.3, -0.2, 10]], dtype=float)\n",
        "\n",
        "# Vector de salida deseada, terminos independientes\n",
        "b = np.array([7.85, -19.3, 71.4], dtype=float)\n",
        "\n",
        "# Calcular la matriz inversa\n",
        "A_inv = np.linalg.inv(A)\n",
        "\n",
        "# Multiplicar A_inv por el vector b\n",
        "sol = np.dot(A_inv, b)\n",
        "\n",
        "# Mostrar la solución\n",
        "print(\"Pesos ajustados:\")\n",
        "print(f\"w1 = {sol[0]:.4f}, w2 = {sol[1]:.4f}, w3 = {sol[2]:.4f}\")"
      ],
      "metadata": {
        "colab": {
          "base_uri": "https://localhost:8080/"
        },
        "id": "LFRtRg0YkuN0",
        "outputId": "3b06fdea-9d4b-4f55-9937-f1bea2706eab"
      },
      "execution_count": null,
      "outputs": [
        {
          "output_type": "stream",
          "name": "stdout",
          "text": [
            "Pesos ajustados:\n",
            "w1 = 2.2191, w2 = -25.0719, w3 = 6.5720\n"
          ]
        }
      ]
    },
    {
      "cell_type": "markdown",
      "source": [
        "#3.Ejercicio: Método de Jacobi aplicado a la actualización de los parámetros de la red"
      ],
      "metadata": {
        "id": "nQfzIVrKk2Wh"
      }
    },
    {
      "cell_type": "code",
      "source": [
        "def jacobi(A, b, x0, tol=1e-10, max_iter=1000):\n",
        "  n = len(b)\n",
        "  x = x0\n",
        "  for k in range(max_iter):\n",
        "    x_new = np.zeros_like(x)\n",
        "    for i in range(n):\n",
        "      s = sum(A[i][j] * x[j] for j in range(n) if i != j)\n",
        "      x_new[i] = (b[i] - s) / A[i][i]\n",
        "    if np.linalg.norm(x_new - x, ord=np.inf) < tol:\n",
        "      return x_new\n",
        "    x = x_new\n",
        "  return x\n",
        "\n",
        "#Matriz\n",
        "A = np.array([[3, -0.1, -0.2],\n",
        "              [0.1, 0.7, -0.3],\n",
        "              [0.3, -0.2, 10]], dtype=float)\n",
        "\n",
        "# Vector de errores\n",
        "b = np.array([7.85, -19.3, 71.4], dtype=float)\n",
        "\n",
        "# Aproximación inicial\n",
        "x0 = np.zeros_like(b)\n",
        "\n",
        "# Aplicar el método de Jacobi\n",
        "sol = jacobi(A, b, x0)\n",
        "\n",
        "print(\"Pesos ajustados usando Jacobi:\")\n",
        "print(sol)"
      ],
      "metadata": {
        "colab": {
          "base_uri": "https://localhost:8080/"
        },
        "id": "RX0OfM-ik4W-",
        "outputId": "6fd95b38-0cdc-4c50-b1a6-20cc60696b7d"
      },
      "execution_count": null,
      "outputs": [
        {
          "output_type": "stream",
          "name": "stdout",
          "text": [
            "Pesos ajustados usando Jacobi:\n",
            "[  2.21907032 -25.07187128   6.57199046]\n"
          ]
        }
      ]
    },
    {
      "cell_type": "markdown",
      "source": [
        "#Ejercicio 4: Método Iterativo de Gauss-Seidel para actualización de parámetros"
      ],
      "metadata": {
        "id": "uOBux5ylmXtD"
      }
    },
    {
      "cell_type": "code",
      "source": [
        "import numpy as np\n",
        "\n",
        "def gauss_seidel(A, b, x0, tol=1e-10, max_iter=1000):\n",
        "  n = len(b)\n",
        "  x = x0\n",
        "  for k in range(max_iter):\n",
        "    x_new = np.copy(x)\n",
        "    for i in range(n):\n",
        "      s1 = sum(A[i][j] * x_new[j] for j in range(i))\n",
        "      s2 = sum(A[i][j] * x[j] for j in range(i+1, n))\n",
        "      x_new[i] = (b[i] - s1 - s2) / A[i][i]\n",
        "    if np.linalg.norm(x_new - x, ord=np.inf) < tol:\n",
        "      return x_new, k\n",
        "    x = x_new\n",
        "  return x, max_iter\n",
        "\n",
        "#Matriz\n",
        "A = np.array([[10, -1, 2],\n",
        "              [-1, 11, -1],\n",
        "              [2, -1, 10]], dtype=float)\n",
        "\n",
        "# Vector de términos independientes\n",
        "b = np.array([5, 6, 7], dtype=float)\n",
        "\n",
        "# Valor inicial de las incógnitas\n",
        "x0 = np.zeros_like(b)\n",
        "\n",
        "# Resolver el sistema usando el método de Gauss-Seidel\n",
        "sol, iteraciones = gauss_seidel(A, b, x0)\n",
        "\n",
        "# Mostrar la solución y el número de iteraciones\n",
        "print(\"Solución del sistema:\")\n",
        "print(sol)\n",
        "print(f\"Número de iteraciones: {iteraciones}\")"
      ],
      "metadata": {
        "colab": {
          "base_uri": "https://localhost:8080/"
        },
        "id": "6r6VjtSamvaL",
        "outputId": "8ab81af3-1cb2-4247-b55d-5f3cb9a97cb8"
      },
      "execution_count": 1,
      "outputs": [
        {
          "output_type": "stream",
          "name": "stdout",
          "text": [
            "Solución del sistema:\n",
            "[0.42884615 0.64615385 0.67884615]\n",
            "Número de iteraciones: 8\n"
          ]
        }
      ]
    },
    {
      "cell_type": "markdown",
      "source": [
        "#Ejercicio 5: Descomposición de Cholesky aplicada a una red neuronal"
      ],
      "metadata": {
        "id": "f34pq4pXoPD6"
      }
    },
    {
      "cell_type": "code",
      "source": [
        "from scipy.linalg import cholesky\n",
        "\n",
        "A = np.array([[25, 15, -5],\n",
        "              [15, 18, 0],\n",
        "              [-5, 0, 11]], dtype=float)\n",
        "\n",
        "b = np.array([350, 400, 200], dtype=float)\n",
        "\n",
        "# Descomposición de Cholesky\n",
        "L = cholesky(A, lower=True)\n",
        "\n",
        "# Resolver Ly = b\n",
        "y = np.linalg.solve(L, b)\n",
        "\n",
        "# Resolver L^T x = y\n",
        "x = np.linalg.solve(L.T, y)\n",
        "\n",
        "print(\"Pesos ajustados usando Cholesky:\")\n",
        "print(x)\n"
      ],
      "metadata": {
        "colab": {
          "base_uri": "https://localhost:8080/"
        },
        "id": "OyZuSDknoSqG",
        "outputId": "4c133512-ae12-42e1-a059-175a4ad5bc86"
      },
      "execution_count": null,
      "outputs": [
        {
          "output_type": "stream",
          "name": "stdout",
          "text": [
            "Pesos ajustados usando Cholesky:\n",
            "[10.51851852 13.45679012 22.96296296]\n"
          ]
        }
      ]
    }
  ]
}